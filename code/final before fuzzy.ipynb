{
  "cells": [
    {
      "cell_type": "code",
      "execution_count": 3,
      "metadata": {
        "collapsed": true,
        "id": "iCF0qoUDMqtA",
        "colab": {
          "base_uri": "https://localhost:8080/",
          "height": 423
        },
        "outputId": "3401c135-2dee-4ee8-8995-5acfd79b9914"
      },
      "outputs": [
        {
          "output_type": "execute_result",
          "data": {
            "text/plain": [
              "      Area Code (FAO)  Year  population  yield  harvested      Value\n",
              "0                   2  1961    8790.140  10220  2230000.0  2279000.0\n",
              "1                   2  1962    8969.047   9735  2341000.0  2279000.0\n",
              "2                   2  1963    9157.465   8317  2341000.0  1947000.0\n",
              "3                   2  1964    9355.514   9510  2345000.0  2230000.0\n",
              "4                   2  1965    9565.147   9723  2347000.0  2282000.0\n",
              "...               ...   ...         ...    ...        ...        ...\n",
              "6608              181  2016   14452.704  19013    22094.0    42008.0\n",
              "6609              181  2017   14751.101  17542    22070.0    38715.0\n",
              "6610              181  2018   15052.184  16206    27767.0    45000.0\n",
              "6611              181  2019   15354.608  18278    43769.0    80000.0\n",
              "6612              181  2020   15669.666  18278    82068.0   150000.0\n",
              "\n",
              "[6613 rows x 6 columns]"
            ],
            "text/html": [
              "\n",
              "  <div id=\"df-85fc6b23-4bac-4395-9f62-74c16c081336\">\n",
              "    <div class=\"colab-df-container\">\n",
              "      <div>\n",
              "<style scoped>\n",
              "    .dataframe tbody tr th:only-of-type {\n",
              "        vertical-align: middle;\n",
              "    }\n",
              "\n",
              "    .dataframe tbody tr th {\n",
              "        vertical-align: top;\n",
              "    }\n",
              "\n",
              "    .dataframe thead th {\n",
              "        text-align: right;\n",
              "    }\n",
              "</style>\n",
              "<table border=\"1\" class=\"dataframe\">\n",
              "  <thead>\n",
              "    <tr style=\"text-align: right;\">\n",
              "      <th></th>\n",
              "      <th>Area Code (FAO)</th>\n",
              "      <th>Year</th>\n",
              "      <th>population</th>\n",
              "      <th>yield</th>\n",
              "      <th>harvested</th>\n",
              "      <th>Value</th>\n",
              "    </tr>\n",
              "  </thead>\n",
              "  <tbody>\n",
              "    <tr>\n",
              "      <th>0</th>\n",
              "      <td>2</td>\n",
              "      <td>1961</td>\n",
              "      <td>8790.140</td>\n",
              "      <td>10220</td>\n",
              "      <td>2230000.0</td>\n",
              "      <td>2279000.0</td>\n",
              "    </tr>\n",
              "    <tr>\n",
              "      <th>1</th>\n",
              "      <td>2</td>\n",
              "      <td>1962</td>\n",
              "      <td>8969.047</td>\n",
              "      <td>9735</td>\n",
              "      <td>2341000.0</td>\n",
              "      <td>2279000.0</td>\n",
              "    </tr>\n",
              "    <tr>\n",
              "      <th>2</th>\n",
              "      <td>2</td>\n",
              "      <td>1963</td>\n",
              "      <td>9157.465</td>\n",
              "      <td>8317</td>\n",
              "      <td>2341000.0</td>\n",
              "      <td>1947000.0</td>\n",
              "    </tr>\n",
              "    <tr>\n",
              "      <th>3</th>\n",
              "      <td>2</td>\n",
              "      <td>1964</td>\n",
              "      <td>9355.514</td>\n",
              "      <td>9510</td>\n",
              "      <td>2345000.0</td>\n",
              "      <td>2230000.0</td>\n",
              "    </tr>\n",
              "    <tr>\n",
              "      <th>4</th>\n",
              "      <td>2</td>\n",
              "      <td>1965</td>\n",
              "      <td>9565.147</td>\n",
              "      <td>9723</td>\n",
              "      <td>2347000.0</td>\n",
              "      <td>2282000.0</td>\n",
              "    </tr>\n",
              "    <tr>\n",
              "      <th>...</th>\n",
              "      <td>...</td>\n",
              "      <td>...</td>\n",
              "      <td>...</td>\n",
              "      <td>...</td>\n",
              "      <td>...</td>\n",
              "      <td>...</td>\n",
              "    </tr>\n",
              "    <tr>\n",
              "      <th>6608</th>\n",
              "      <td>181</td>\n",
              "      <td>2016</td>\n",
              "      <td>14452.704</td>\n",
              "      <td>19013</td>\n",
              "      <td>22094.0</td>\n",
              "      <td>42008.0</td>\n",
              "    </tr>\n",
              "    <tr>\n",
              "      <th>6609</th>\n",
              "      <td>181</td>\n",
              "      <td>2017</td>\n",
              "      <td>14751.101</td>\n",
              "      <td>17542</td>\n",
              "      <td>22070.0</td>\n",
              "      <td>38715.0</td>\n",
              "    </tr>\n",
              "    <tr>\n",
              "      <th>6610</th>\n",
              "      <td>181</td>\n",
              "      <td>2018</td>\n",
              "      <td>15052.184</td>\n",
              "      <td>16206</td>\n",
              "      <td>27767.0</td>\n",
              "      <td>45000.0</td>\n",
              "    </tr>\n",
              "    <tr>\n",
              "      <th>6611</th>\n",
              "      <td>181</td>\n",
              "      <td>2019</td>\n",
              "      <td>15354.608</td>\n",
              "      <td>18278</td>\n",
              "      <td>43769.0</td>\n",
              "      <td>80000.0</td>\n",
              "    </tr>\n",
              "    <tr>\n",
              "      <th>6612</th>\n",
              "      <td>181</td>\n",
              "      <td>2020</td>\n",
              "      <td>15669.666</td>\n",
              "      <td>18278</td>\n",
              "      <td>82068.0</td>\n",
              "      <td>150000.0</td>\n",
              "    </tr>\n",
              "  </tbody>\n",
              "</table>\n",
              "<p>6613 rows × 6 columns</p>\n",
              "</div>\n",
              "      <button class=\"colab-df-convert\" onclick=\"convertToInteractive('df-85fc6b23-4bac-4395-9f62-74c16c081336')\"\n",
              "              title=\"Convert this dataframe to an interactive table.\"\n",
              "              style=\"display:none;\">\n",
              "        \n",
              "  <svg xmlns=\"http://www.w3.org/2000/svg\" height=\"24px\"viewBox=\"0 0 24 24\"\n",
              "       width=\"24px\">\n",
              "    <path d=\"M0 0h24v24H0V0z\" fill=\"none\"/>\n",
              "    <path d=\"M18.56 5.44l.94 2.06.94-2.06 2.06-.94-2.06-.94-.94-2.06-.94 2.06-2.06.94zm-11 1L8.5 8.5l.94-2.06 2.06-.94-2.06-.94L8.5 2.5l-.94 2.06-2.06.94zm10 10l.94 2.06.94-2.06 2.06-.94-2.06-.94-.94-2.06-.94 2.06-2.06.94z\"/><path d=\"M17.41 7.96l-1.37-1.37c-.4-.4-.92-.59-1.43-.59-.52 0-1.04.2-1.43.59L10.3 9.45l-7.72 7.72c-.78.78-.78 2.05 0 2.83L4 21.41c.39.39.9.59 1.41.59.51 0 1.02-.2 1.41-.59l7.78-7.78 2.81-2.81c.8-.78.8-2.07 0-2.86zM5.41 20L4 18.59l7.72-7.72 1.47 1.35L5.41 20z\"/>\n",
              "  </svg>\n",
              "      </button>\n",
              "      \n",
              "  <style>\n",
              "    .colab-df-container {\n",
              "      display:flex;\n",
              "      flex-wrap:wrap;\n",
              "      gap: 12px;\n",
              "    }\n",
              "\n",
              "    .colab-df-convert {\n",
              "      background-color: #E8F0FE;\n",
              "      border: none;\n",
              "      border-radius: 50%;\n",
              "      cursor: pointer;\n",
              "      display: none;\n",
              "      fill: #1967D2;\n",
              "      height: 32px;\n",
              "      padding: 0 0 0 0;\n",
              "      width: 32px;\n",
              "    }\n",
              "\n",
              "    .colab-df-convert:hover {\n",
              "      background-color: #E2EBFA;\n",
              "      box-shadow: 0px 1px 2px rgba(60, 64, 67, 0.3), 0px 1px 3px 1px rgba(60, 64, 67, 0.15);\n",
              "      fill: #174EA6;\n",
              "    }\n",
              "\n",
              "    [theme=dark] .colab-df-convert {\n",
              "      background-color: #3B4455;\n",
              "      fill: #D2E3FC;\n",
              "    }\n",
              "\n",
              "    [theme=dark] .colab-df-convert:hover {\n",
              "      background-color: #434B5C;\n",
              "      box-shadow: 0px 1px 3px 1px rgba(0, 0, 0, 0.15);\n",
              "      filter: drop-shadow(0px 1px 2px rgba(0, 0, 0, 0.3));\n",
              "      fill: #FFFFFF;\n",
              "    }\n",
              "  </style>\n",
              "\n",
              "      <script>\n",
              "        const buttonEl =\n",
              "          document.querySelector('#df-85fc6b23-4bac-4395-9f62-74c16c081336 button.colab-df-convert');\n",
              "        buttonEl.style.display =\n",
              "          google.colab.kernel.accessAllowed ? 'block' : 'none';\n",
              "\n",
              "        async function convertToInteractive(key) {\n",
              "          const element = document.querySelector('#df-85fc6b23-4bac-4395-9f62-74c16c081336');\n",
              "          const dataTable =\n",
              "            await google.colab.kernel.invokeFunction('convertToInteractive',\n",
              "                                                     [key], {});\n",
              "          if (!dataTable) return;\n",
              "\n",
              "          const docLinkHtml = 'Like what you see? Visit the ' +\n",
              "            '<a target=\"_blank\" href=https://colab.research.google.com/notebooks/data_table.ipynb>data table notebook</a>'\n",
              "            + ' to learn more about interactive tables.';\n",
              "          element.innerHTML = '';\n",
              "          dataTable['output_type'] = 'display_data';\n",
              "          await google.colab.output.renderOutput(dataTable, element);\n",
              "          const docLink = document.createElement('div');\n",
              "          docLink.innerHTML = docLinkHtml;\n",
              "          element.appendChild(docLink);\n",
              "        }\n",
              "      </script>\n",
              "    </div>\n",
              "  </div>\n",
              "  "
            ]
          },
          "metadata": {},
          "execution_count": 3
        }
      ],
      "source": [
        "#Load dataset\n",
        "import pandas as pd\n",
        "import numpy as np\n",
        "df = pd.read_csv('merge.csv')\n",
        "df.sort_values('Area Code (FAO)')\n",
        "df"
      ]
    },
    {
      "cell_type": "code",
      "execution_count": 4,
      "metadata": {
        "colab": {
          "base_uri": "https://localhost:8080/",
          "height": 423
        },
        "id": "gwk2eADxMqtD",
        "outputId": "357cbf14-3a91-4ae1-c8aa-5301edcc9d68",
        "pycharm": {
          "name": "#%%\n"
        }
      },
      "outputs": [
        {
          "output_type": "execute_result",
          "data": {
            "text/plain": [
              "      Area Code (FAO)  Year  population  yield  harvested      Value\n",
              "0                   2  1961    8790.140  10220  2230000.0  2279000.0\n",
              "1                   2  1962    8969.047   9735  2341000.0  2279000.0\n",
              "2                   2  1963    9157.465   8317  2341000.0  1947000.0\n",
              "3                   2  1964    9355.514   9510  2345000.0  2230000.0\n",
              "4                   2  1965    9565.147   9723  2347000.0  2282000.0\n",
              "...               ...   ...         ...    ...        ...        ...\n",
              "6608              181  2016   14452.704  19013    22094.0    42008.0\n",
              "6609              181  2017   14751.101  17542    22070.0    38715.0\n",
              "6610              181  2018   15052.184  16206    27767.0    45000.0\n",
              "6611              181  2019   15354.608  18278    43769.0    80000.0\n",
              "6612              181  2020   15669.666  18278    82068.0   150000.0\n",
              "\n",
              "[4980 rows x 6 columns]"
            ],
            "text/html": [
              "\n",
              "  <div id=\"df-0c6dbeba-ff6f-41ea-b75f-f8f990801c5e\">\n",
              "    <div class=\"colab-df-container\">\n",
              "      <div>\n",
              "<style scoped>\n",
              "    .dataframe tbody tr th:only-of-type {\n",
              "        vertical-align: middle;\n",
              "    }\n",
              "\n",
              "    .dataframe tbody tr th {\n",
              "        vertical-align: top;\n",
              "    }\n",
              "\n",
              "    .dataframe thead th {\n",
              "        text-align: right;\n",
              "    }\n",
              "</style>\n",
              "<table border=\"1\" class=\"dataframe\">\n",
              "  <thead>\n",
              "    <tr style=\"text-align: right;\">\n",
              "      <th></th>\n",
              "      <th>Area Code (FAO)</th>\n",
              "      <th>Year</th>\n",
              "      <th>population</th>\n",
              "      <th>yield</th>\n",
              "      <th>harvested</th>\n",
              "      <th>Value</th>\n",
              "    </tr>\n",
              "  </thead>\n",
              "  <tbody>\n",
              "    <tr>\n",
              "      <th>0</th>\n",
              "      <td>2</td>\n",
              "      <td>1961</td>\n",
              "      <td>8790.140</td>\n",
              "      <td>10220</td>\n",
              "      <td>2230000.0</td>\n",
              "      <td>2279000.0</td>\n",
              "    </tr>\n",
              "    <tr>\n",
              "      <th>1</th>\n",
              "      <td>2</td>\n",
              "      <td>1962</td>\n",
              "      <td>8969.047</td>\n",
              "      <td>9735</td>\n",
              "      <td>2341000.0</td>\n",
              "      <td>2279000.0</td>\n",
              "    </tr>\n",
              "    <tr>\n",
              "      <th>2</th>\n",
              "      <td>2</td>\n",
              "      <td>1963</td>\n",
              "      <td>9157.465</td>\n",
              "      <td>8317</td>\n",
              "      <td>2341000.0</td>\n",
              "      <td>1947000.0</td>\n",
              "    </tr>\n",
              "    <tr>\n",
              "      <th>3</th>\n",
              "      <td>2</td>\n",
              "      <td>1964</td>\n",
              "      <td>9355.514</td>\n",
              "      <td>9510</td>\n",
              "      <td>2345000.0</td>\n",
              "      <td>2230000.0</td>\n",
              "    </tr>\n",
              "    <tr>\n",
              "      <th>4</th>\n",
              "      <td>2</td>\n",
              "      <td>1965</td>\n",
              "      <td>9565.147</td>\n",
              "      <td>9723</td>\n",
              "      <td>2347000.0</td>\n",
              "      <td>2282000.0</td>\n",
              "    </tr>\n",
              "    <tr>\n",
              "      <th>...</th>\n",
              "      <td>...</td>\n",
              "      <td>...</td>\n",
              "      <td>...</td>\n",
              "      <td>...</td>\n",
              "      <td>...</td>\n",
              "      <td>...</td>\n",
              "    </tr>\n",
              "    <tr>\n",
              "      <th>6608</th>\n",
              "      <td>181</td>\n",
              "      <td>2016</td>\n",
              "      <td>14452.704</td>\n",
              "      <td>19013</td>\n",
              "      <td>22094.0</td>\n",
              "      <td>42008.0</td>\n",
              "    </tr>\n",
              "    <tr>\n",
              "      <th>6609</th>\n",
              "      <td>181</td>\n",
              "      <td>2017</td>\n",
              "      <td>14751.101</td>\n",
              "      <td>17542</td>\n",
              "      <td>22070.0</td>\n",
              "      <td>38715.0</td>\n",
              "    </tr>\n",
              "    <tr>\n",
              "      <th>6610</th>\n",
              "      <td>181</td>\n",
              "      <td>2018</td>\n",
              "      <td>15052.184</td>\n",
              "      <td>16206</td>\n",
              "      <td>27767.0</td>\n",
              "      <td>45000.0</td>\n",
              "    </tr>\n",
              "    <tr>\n",
              "      <th>6611</th>\n",
              "      <td>181</td>\n",
              "      <td>2019</td>\n",
              "      <td>15354.608</td>\n",
              "      <td>18278</td>\n",
              "      <td>43769.0</td>\n",
              "      <td>80000.0</td>\n",
              "    </tr>\n",
              "    <tr>\n",
              "      <th>6612</th>\n",
              "      <td>181</td>\n",
              "      <td>2020</td>\n",
              "      <td>15669.666</td>\n",
              "      <td>18278</td>\n",
              "      <td>82068.0</td>\n",
              "      <td>150000.0</td>\n",
              "    </tr>\n",
              "  </tbody>\n",
              "</table>\n",
              "<p>4980 rows × 6 columns</p>\n",
              "</div>\n",
              "      <button class=\"colab-df-convert\" onclick=\"convertToInteractive('df-0c6dbeba-ff6f-41ea-b75f-f8f990801c5e')\"\n",
              "              title=\"Convert this dataframe to an interactive table.\"\n",
              "              style=\"display:none;\">\n",
              "        \n",
              "  <svg xmlns=\"http://www.w3.org/2000/svg\" height=\"24px\"viewBox=\"0 0 24 24\"\n",
              "       width=\"24px\">\n",
              "    <path d=\"M0 0h24v24H0V0z\" fill=\"none\"/>\n",
              "    <path d=\"M18.56 5.44l.94 2.06.94-2.06 2.06-.94-2.06-.94-.94-2.06-.94 2.06-2.06.94zm-11 1L8.5 8.5l.94-2.06 2.06-.94-2.06-.94L8.5 2.5l-.94 2.06-2.06.94zm10 10l.94 2.06.94-2.06 2.06-.94-2.06-.94-.94-2.06-.94 2.06-2.06.94z\"/><path d=\"M17.41 7.96l-1.37-1.37c-.4-.4-.92-.59-1.43-.59-.52 0-1.04.2-1.43.59L10.3 9.45l-7.72 7.72c-.78.78-.78 2.05 0 2.83L4 21.41c.39.39.9.59 1.41.59.51 0 1.02-.2 1.41-.59l7.78-7.78 2.81-2.81c.8-.78.8-2.07 0-2.86zM5.41 20L4 18.59l7.72-7.72 1.47 1.35L5.41 20z\"/>\n",
              "  </svg>\n",
              "      </button>\n",
              "      \n",
              "  <style>\n",
              "    .colab-df-container {\n",
              "      display:flex;\n",
              "      flex-wrap:wrap;\n",
              "      gap: 12px;\n",
              "    }\n",
              "\n",
              "    .colab-df-convert {\n",
              "      background-color: #E8F0FE;\n",
              "      border: none;\n",
              "      border-radius: 50%;\n",
              "      cursor: pointer;\n",
              "      display: none;\n",
              "      fill: #1967D2;\n",
              "      height: 32px;\n",
              "      padding: 0 0 0 0;\n",
              "      width: 32px;\n",
              "    }\n",
              "\n",
              "    .colab-df-convert:hover {\n",
              "      background-color: #E2EBFA;\n",
              "      box-shadow: 0px 1px 2px rgba(60, 64, 67, 0.3), 0px 1px 3px 1px rgba(60, 64, 67, 0.15);\n",
              "      fill: #174EA6;\n",
              "    }\n",
              "\n",
              "    [theme=dark] .colab-df-convert {\n",
              "      background-color: #3B4455;\n",
              "      fill: #D2E3FC;\n",
              "    }\n",
              "\n",
              "    [theme=dark] .colab-df-convert:hover {\n",
              "      background-color: #434B5C;\n",
              "      box-shadow: 0px 1px 3px 1px rgba(0, 0, 0, 0.15);\n",
              "      filter: drop-shadow(0px 1px 2px rgba(0, 0, 0, 0.3));\n",
              "      fill: #FFFFFF;\n",
              "    }\n",
              "  </style>\n",
              "\n",
              "      <script>\n",
              "        const buttonEl =\n",
              "          document.querySelector('#df-0c6dbeba-ff6f-41ea-b75f-f8f990801c5e button.colab-df-convert');\n",
              "        buttonEl.style.display =\n",
              "          google.colab.kernel.accessAllowed ? 'block' : 'none';\n",
              "\n",
              "        async function convertToInteractive(key) {\n",
              "          const element = document.querySelector('#df-0c6dbeba-ff6f-41ea-b75f-f8f990801c5e');\n",
              "          const dataTable =\n",
              "            await google.colab.kernel.invokeFunction('convertToInteractive',\n",
              "                                                     [key], {});\n",
              "          if (!dataTable) return;\n",
              "\n",
              "          const docLinkHtml = 'Like what you see? Visit the ' +\n",
              "            '<a target=\"_blank\" href=https://colab.research.google.com/notebooks/data_table.ipynb>data table notebook</a>'\n",
              "            + ' to learn more about interactive tables.';\n",
              "          element.innerHTML = '';\n",
              "          dataTable['output_type'] = 'display_data';\n",
              "          await google.colab.output.renderOutput(dataTable, element);\n",
              "          const docLink = document.createElement('div');\n",
              "          docLink.innerHTML = docLinkHtml;\n",
              "          element.appendChild(docLink);\n",
              "        }\n",
              "      </script>\n",
              "    </div>\n",
              "  </div>\n",
              "  "
            ]
          },
          "metadata": {},
          "execution_count": 4
        }
      ],
      "source": [
        "#clear rows whithout 60 years\n",
        "d=(df.groupby('Area Code (FAO)').count()==60)[['Year']]\n",
        "d=list(d[d['Year']==True].reset_index()['Area Code (FAO)'])\n",
        "for i in range(len(df)):\n",
        "    if df['Area Code (FAO)'][i] not in d:\n",
        "        df.drop(i,axis=0,inplace=True)\n",
        "df"
      ]
    },
    {
      "cell_type": "code",
      "execution_count": 5,
      "metadata": {
        "colab": {
          "base_uri": "https://localhost:8080/"
        },
        "id": "VndkxGHoMqtD",
        "outputId": "eb4391df-1648-441d-d09b-a764161c3832",
        "pycharm": {
          "name": "#%%\n"
        }
      },
      "outputs": [
        {
          "output_type": "execute_result",
          "data": {
            "text/plain": [
              "(83, 1, 60)"
            ]
          },
          "metadata": {},
          "execution_count": 5
        }
      ],
      "source": [
        "(df.groupby('Area Code (FAO)').count()==60).sum()\n",
        "Y=df['Value']\n",
        "Y=np.array(Y)\n",
        "Y=Y.reshape(83,1,60)\n",
        "Y.shape"
      ]
    },
    {
      "cell_type": "code",
      "execution_count": 6,
      "metadata": {
        "colab": {
          "base_uri": "https://localhost:8080/"
        },
        "id": "w1tuul89MqtE",
        "outputId": "bdc6a1bb-fdc3-4fb6-8357-e217ce1225ba",
        "pycharm": {
          "name": "#%%\n"
        }
      },
      "outputs": [
        {
          "output_type": "execute_result",
          "data": {
            "text/plain": [
              "0"
            ]
          },
          "metadata": {},
          "execution_count": 6
        }
      ],
      "source": [
        "df.duplicated().sum()"
      ]
    },
    {
      "cell_type": "code",
      "execution_count": 7,
      "metadata": {
        "colab": {
          "base_uri": "https://localhost:8080/"
        },
        "id": "UptWigV6MqtE",
        "outputId": "351632f2-1cf4-43ea-f948-0004e8f958ab",
        "pycharm": {
          "name": "#%%\n"
        }
      },
      "outputs": [
        {
          "output_type": "stream",
          "name": "stdout",
          "text": [
            "[[ 8790.14   8969.047  9157.465 ... 36686.784 37769.499 38972.23 ]\n",
            " [ 1769.079  1828.232  1888.302 ...  2877.013  2873.883  2866.849]\n",
            " [11598.608 11778.26  11969.451 ... 41927.007 42705.368 43451.666]\n",
            " ...\n",
            " [ 5646.668  5753.386  5860.197 ... 30790.513 31546.691 32284.046]\n",
            " [ 3219.451  3323.427  3431.381 ... 17835.893 18380.477 18927.715]\n",
            " [ 3925.952  4049.778  4177.931 ... 15052.184 15354.608 15669.666]]\n"
          ]
        },
        {
          "output_type": "execute_result",
          "data": {
            "text/plain": [
              "array([[[8.7901400e+03, 8.9690470e+03, 9.1574650e+03, ...,\n",
              "         3.6686784e+04, 3.7769499e+04, 3.8972230e+04],\n",
              "        [1.0220000e+04, 9.7350000e+03, 8.3170000e+03, ...,\n",
              "         2.2100000e+04, 2.0951000e+04, 1.9434000e+04],\n",
              "        [2.2300000e+06, 2.3410000e+06, 2.3410000e+06, ...,\n",
              "         1.6350000e+06, 2.3340000e+06, 2.6680000e+06]],\n",
              "\n",
              "       [[1.7690790e+03, 1.8282320e+03, 1.8883020e+03, ...,\n",
              "         2.8770130e+03, 2.8738830e+03, 2.8668490e+03],\n",
              "        [7.7310000e+03, 1.0522000e+04, 7.1270000e+03, ...,\n",
              "         3.6927000e+04, 4.0680000e+04, 4.3271000e+04],\n",
              "        [1.2650000e+05, 1.3914400e+05, 8.6660000e+04, ...,\n",
              "         6.5072000e+04, 5.7330000e+04, 5.3946000e+04]],\n",
              "\n",
              "       [[1.1598608e+04, 1.1778260e+04, 1.1969451e+04, ...,\n",
              "         4.1927007e+04, 4.2705368e+04, 4.3451666e+04],\n",
              "        [4.0600000e+03, 8.0450000e+03, 8.3260000e+03, ...,\n",
              "         2.0433000e+04, 1.9630000e+04, 1.6811000e+04],\n",
              "        [1.6890640e+06, 1.8733000e+06, 1.9092030e+06, ...,\n",
              "         1.9484020e+06, 1.9749870e+06, 1.8480830e+06]],\n",
              "\n",
              "       ...,\n",
              "\n",
              "       [[5.6466680e+03, 5.7533860e+03, 5.8601970e+03, ...,\n",
              "         3.0790513e+04, 3.1546691e+04, 3.2284046e+04],\n",
              "        [1.3077000e+04, 1.2963000e+04, 1.2982000e+04, ...,\n",
              "         1.4332000e+04, 1.7459000e+04, 1.7627000e+04],\n",
              "        [2.6000000e+04, 2.7000000e+04, 2.8500000e+04, ...,\n",
              "         6.4339000e+04, 5.7466000e+04, 5.7218000e+04]],\n",
              "\n",
              "       [[3.2194510e+03, 3.3234270e+03, 3.4313810e+03, ...,\n",
              "         1.7835893e+04, 1.8380477e+04, 1.8927715e+04],\n",
              "        [1.6000000e+04, 1.6859000e+04, 2.0140000e+04, ...,\n",
              "         5.2809000e+04, 6.6877000e+04, 7.3680000e+04],\n",
              "        [3.8000000e+02, 5.5400000e+02, 3.5600000e+02, ...,\n",
              "         2.1675000e+04, 2.2706000e+04, 2.6007000e+04]],\n",
              "\n",
              "       [[3.9259520e+03, 4.0497780e+03, 4.1779310e+03, ...,\n",
              "         1.5052184e+04, 1.5354608e+04, 1.5669666e+04],\n",
              "        [1.4673000e+04, 1.5895000e+04, 1.9530000e+04, ...,\n",
              "         1.6206000e+04, 1.8278000e+04, 1.8278000e+04],\n",
              "        [5.5000000e+02, 7.6500000e+02, 9.5700000e+02, ...,\n",
              "         2.7767000e+04, 4.3769000e+04, 8.2068000e+04]]])"
            ]
          },
          "metadata": {},
          "execution_count": 7
        }
      ],
      "source": [
        "arr=np.array([])\n",
        "\n",
        "#create a 2d array for population that each rows show populations for a country\n",
        "population=df.loc[:,\"population\"]\n",
        "population=population.values.tolist()\n",
        "population=np.array(population)\n",
        "population=population.reshape(83,60)\n",
        "print(population)\n",
        "\n",
        "\n",
        "#create a 2d array for yield that each rows show yields for a country\n",
        "Yield=df.loc[:,\"yield\"]\n",
        "Yield=Yield.values.tolist()\n",
        "Yield=np.array(Yield)\n",
        "Yield=Yield.reshape(83,60)\n",
        "\n",
        "#create a 2d array for harvested that each rows show harvesteds for a country\n",
        "harvested=df.loc[:,\"harvested\"]\n",
        "harvested=harvested.values.tolist()\n",
        "harvested=np.array(harvested)\n",
        "harvested=harvested.reshape(83,60)\n",
        "\n",
        "\n",
        "\n",
        "#create a 1d array that we will make it to a 3d array\n",
        "for i in range(83):\n",
        "    arr=np.append(arr,population[i])\n",
        "    arr=np.append(arr,Yield[i])\n",
        "    arr=np.append(arr,harvested[i])\n",
        "    #arr=np.append(arr,production[i])\n",
        "\n",
        "#reshape 1d array to a 3d array that each dimension is for a country , culomn for years , and rows for values\n",
        "arr=arr.reshape(83,3,60)\n",
        "arr\n"
      ]
    },
    {
      "cell_type": "code",
      "execution_count": 8,
      "metadata": {
        "id": "JMzEGg0tMqtF",
        "pycharm": {
          "name": "#%%\n"
        }
      },
      "outputs": [],
      "source": [
        "#preproccessing dataset \n",
        "from sklearn.preprocessing import StandardScaler\n",
        "scalers={}\n",
        "for i in range(arr.shape[1]):\n",
        "    scalers[i]=StandardScaler()\n",
        "    arr[:,i,:] = scalers[i].fit_transform(arr[:,i,:])"
      ]
    },
    {
      "cell_type": "code",
      "execution_count": 9,
      "metadata": {
        "colab": {
          "base_uri": "https://localhost:8080/"
        },
        "id": "Y4zU_HIJMqtF",
        "outputId": "26317405-0af5-443b-9924-921aa2b7fc96",
        "pycharm": {
          "name": "#%%\n"
        }
      },
      "outputs": [
        {
          "output_type": "stream",
          "name": "stdout",
          "text": [
            "(66, 3, 60) (17, 3, 60) (66, 1, 60) (17, 1, 60)\n"
          ]
        }
      ],
      "source": [
        "#split dataset into train and test parts\n",
        "from sklearn.model_selection import train_test_split\n",
        "X_train, X_test, Y_train, Y_test = train_test_split(arr,Y, test_size=0.2)\n",
        "print(X_train.shape, X_test.shape, Y_train.shape, Y_test.shape)"
      ]
    },
    {
      "cell_type": "code",
      "execution_count": 10,
      "metadata": {
        "colab": {
          "base_uri": "https://localhost:8080/"
        },
        "id": "OKPLy72EMqtG",
        "outputId": "9d09240d-e442-41c7-c711-a1893eaa884d",
        "pycharm": {
          "name": "#%%\n"
        }
      },
      "outputs": [
        {
          "output_type": "execute_result",
          "data": {
            "text/plain": [
              "((66, 3, 60, 1), (17, 3, 60, 1))"
            ]
          },
          "metadata": {},
          "execution_count": 10
        }
      ],
      "source": [
        "#Reshape X_train and X_test\n",
        "X_train = X_train.reshape(X_train.shape[0], 3, 60, 1)\n",
        "X_test = X_test.reshape(X_test.shape[0], 3, 60, 1)\n",
        "\n",
        "X_train.shape, X_test.shape"
      ]
    },
    {
      "cell_type": "code",
      "execution_count": 11,
      "metadata": {
        "colab": {
          "base_uri": "https://localhost:8080/"
        },
        "id": "uK6buJZpMqtG",
        "outputId": "faa94c9b-66b8-4780-c7e0-0227cc7e211f",
        "pycharm": {
          "name": "#%%\n"
        }
      },
      "outputs": [
        {
          "output_type": "stream",
          "name": "stdout",
          "text": [
            "\u001b[2K     \u001b[90m━━━━━━━━━━━━━━━━━━━━━━━━━━━━━━━━━━━━━━━\u001b[0m \u001b[32m135.7/135.7 KB\u001b[0m \u001b[31m3.8 MB/s\u001b[0m eta \u001b[36m0:00:00\u001b[0m\n",
            "\u001b[2K     \u001b[90m━━━━━━━━━━━━━━━━━━━━━━━━━━━━━━━━━━━━━━━━\u001b[0m \u001b[32m1.6/1.6 MB\u001b[0m \u001b[31m27.5 MB/s\u001b[0m eta \u001b[36m0:00:00\u001b[0m\n",
            "\u001b[?25h"
          ]
        }
      ],
      "source": [
        "!pip install keras-tuner -q"
      ]
    },
    {
      "cell_type": "code",
      "execution_count": 12,
      "metadata": {
        "id": "_dhrsICAMqtH",
        "pycharm": {
          "name": "#%%\n"
        }
      },
      "outputs": [],
      "source": [
        "from keras.models import Sequential\n",
        "\n",
        "from tensorflow import keras\n",
        "from keras.layers import Flatten, Dense, Conv2D, MaxPooling2D,Input\n",
        "from keras import layers, Model\n",
        "from keras_tuner.tuners import RandomSearch"
      ]
    },
    {
      "cell_type": "code",
      "execution_count": 13,
      "metadata": {
        "colab": {
          "base_uri": "https://localhost:8080/"
        },
        "id": "eDj7HRPGMqtH",
        "outputId": "baa4356f-84d6-443e-ee72-5f25af59ca6c",
        "pycharm": {
          "name": "#%%\n"
        }
      },
      "outputs": [
        {
          "output_type": "stream",
          "name": "stdout",
          "text": [
            "Epoch 1/32\n",
            "66/66 [==============================] - 2s 12ms/step - loss: 97.6666 - mean_absolute_percentage_error: 97.6666 - val_loss: 97.0448 - val_mean_absolute_percentage_error: 97.0448\n",
            "Epoch 2/32\n",
            "66/66 [==============================] - 1s 11ms/step - loss: 97.0385 - mean_absolute_percentage_error: 97.0385 - val_loss: 98.6522 - val_mean_absolute_percentage_error: 98.6522\n",
            "Epoch 3/32\n",
            "66/66 [==============================] - 1s 9ms/step - loss: 96.2946 - mean_absolute_percentage_error: 96.2946 - val_loss: 96.9327 - val_mean_absolute_percentage_error: 96.9327\n",
            "Epoch 4/32\n",
            "66/66 [==============================] - 1s 9ms/step - loss: 95.7432 - mean_absolute_percentage_error: 95.7432 - val_loss: 98.5515 - val_mean_absolute_percentage_error: 98.5515\n",
            "Epoch 5/32\n",
            "66/66 [==============================] - 1s 9ms/step - loss: 95.2951 - mean_absolute_percentage_error: 95.2951 - val_loss: 98.3431 - val_mean_absolute_percentage_error: 98.3431\n",
            "Epoch 6/32\n",
            "66/66 [==============================] - 1s 10ms/step - loss: 95.4283 - mean_absolute_percentage_error: 95.4283 - val_loss: 97.9571 - val_mean_absolute_percentage_error: 97.9571\n",
            "Epoch 7/32\n",
            "66/66 [==============================] - 1s 9ms/step - loss: 94.7405 - mean_absolute_percentage_error: 94.7405 - val_loss: 97.8104 - val_mean_absolute_percentage_error: 97.8104\n",
            "Epoch 8/32\n",
            "66/66 [==============================] - 1s 16ms/step - loss: 95.0129 - mean_absolute_percentage_error: 95.0129 - val_loss: 98.2949 - val_mean_absolute_percentage_error: 98.2949\n",
            "Epoch 9/32\n",
            "66/66 [==============================] - 1s 16ms/step - loss: 94.9545 - mean_absolute_percentage_error: 94.9545 - val_loss: 98.2616 - val_mean_absolute_percentage_error: 98.2616\n",
            "Epoch 10/32\n",
            "66/66 [==============================] - 1s 15ms/step - loss: 94.3284 - mean_absolute_percentage_error: 94.3284 - val_loss: 97.3907 - val_mean_absolute_percentage_error: 97.3907\n",
            "Epoch 11/32\n",
            "66/66 [==============================] - 1s 16ms/step - loss: 94.4330 - mean_absolute_percentage_error: 94.4330 - val_loss: 96.7021 - val_mean_absolute_percentage_error: 96.7021\n",
            "Epoch 12/32\n",
            "66/66 [==============================] - 1s 15ms/step - loss: 94.6644 - mean_absolute_percentage_error: 94.6644 - val_loss: 97.4522 - val_mean_absolute_percentage_error: 97.4522\n",
            "Epoch 13/32\n",
            "66/66 [==============================] - 1s 15ms/step - loss: 94.5540 - mean_absolute_percentage_error: 94.5540 - val_loss: 97.4742 - val_mean_absolute_percentage_error: 97.4742\n",
            "Epoch 14/32\n",
            "66/66 [==============================] - 1s 18ms/step - loss: 93.6712 - mean_absolute_percentage_error: 93.6712 - val_loss: 96.2658 - val_mean_absolute_percentage_error: 96.2658\n",
            "Epoch 15/32\n",
            "66/66 [==============================] - 1s 15ms/step - loss: 94.6867 - mean_absolute_percentage_error: 94.6867 - val_loss: 97.5218 - val_mean_absolute_percentage_error: 97.5218\n",
            "Epoch 16/32\n",
            "66/66 [==============================] - 1s 16ms/step - loss: 94.1352 - mean_absolute_percentage_error: 94.1352 - val_loss: 97.9979 - val_mean_absolute_percentage_error: 97.9979\n",
            "Epoch 17/32\n",
            "66/66 [==============================] - 1s 16ms/step - loss: 94.6044 - mean_absolute_percentage_error: 94.6044 - val_loss: 98.2495 - val_mean_absolute_percentage_error: 98.2495\n",
            "Epoch 18/32\n",
            "66/66 [==============================] - 1s 16ms/step - loss: 94.8677 - mean_absolute_percentage_error: 94.8677 - val_loss: 96.2988 - val_mean_absolute_percentage_error: 96.2988\n",
            "Epoch 19/32\n",
            "66/66 [==============================] - 1s 15ms/step - loss: 95.5879 - mean_absolute_percentage_error: 95.5879 - val_loss: 97.6014 - val_mean_absolute_percentage_error: 97.6014\n",
            "Epoch 20/32\n",
            "66/66 [==============================] - 1s 14ms/step - loss: 94.1963 - mean_absolute_percentage_error: 94.1963 - val_loss: 96.7435 - val_mean_absolute_percentage_error: 96.7435\n",
            "Epoch 21/32\n",
            "66/66 [==============================] - 1s 17ms/step - loss: 94.3990 - mean_absolute_percentage_error: 94.3990 - val_loss: 98.2486 - val_mean_absolute_percentage_error: 98.2486\n",
            "Epoch 22/32\n",
            "66/66 [==============================] - 1s 16ms/step - loss: 93.8923 - mean_absolute_percentage_error: 93.8923 - val_loss: 97.5574 - val_mean_absolute_percentage_error: 97.5574\n",
            "Epoch 23/32\n",
            "66/66 [==============================] - 1s 14ms/step - loss: 93.5286 - mean_absolute_percentage_error: 93.5286 - val_loss: 96.6765 - val_mean_absolute_percentage_error: 96.6765\n",
            "Epoch 24/32\n",
            "66/66 [==============================] - 1s 14ms/step - loss: 93.7351 - mean_absolute_percentage_error: 93.7351 - val_loss: 97.7433 - val_mean_absolute_percentage_error: 97.7433\n",
            "Epoch 25/32\n",
            "66/66 [==============================] - 1s 15ms/step - loss: 93.7162 - mean_absolute_percentage_error: 93.7162 - val_loss: 97.6861 - val_mean_absolute_percentage_error: 97.6861\n",
            "Epoch 26/32\n",
            "66/66 [==============================] - 1s 16ms/step - loss: 95.2888 - mean_absolute_percentage_error: 95.2888 - val_loss: 97.9848 - val_mean_absolute_percentage_error: 97.9848\n",
            "Epoch 27/32\n",
            "66/66 [==============================] - 1s 16ms/step - loss: 93.9314 - mean_absolute_percentage_error: 93.9314 - val_loss: 97.6085 - val_mean_absolute_percentage_error: 97.6085\n",
            "Epoch 28/32\n",
            "66/66 [==============================] - 1s 14ms/step - loss: 93.3627 - mean_absolute_percentage_error: 93.3627 - val_loss: 97.1368 - val_mean_absolute_percentage_error: 97.1368\n",
            "Epoch 29/32\n",
            "66/66 [==============================] - 1s 9ms/step - loss: 93.7131 - mean_absolute_percentage_error: 93.7131 - val_loss: 96.4166 - val_mean_absolute_percentage_error: 96.4166\n",
            "Epoch 30/32\n",
            "66/66 [==============================] - 1s 9ms/step - loss: 93.6254 - mean_absolute_percentage_error: 93.6254 - val_loss: 96.7594 - val_mean_absolute_percentage_error: 96.7594\n",
            "Epoch 31/32\n",
            "66/66 [==============================] - 1s 9ms/step - loss: 93.1011 - mean_absolute_percentage_error: 93.1011 - val_loss: 96.9652 - val_mean_absolute_percentage_error: 96.9652\n",
            "Epoch 32/32\n",
            "66/66 [==============================] - 1s 9ms/step - loss: 93.2261 - mean_absolute_percentage_error: 93.2261 - val_loss: 95.4634 - val_mean_absolute_percentage_error: 95.4634\n"
          ]
        },
        {
          "output_type": "execute_result",
          "data": {
            "text/plain": [
              "<keras.callbacks.History at 0x7f6ed2e1eb50>"
            ]
          },
          "metadata": {},
          "execution_count": 13
        }
      ],
      "source": [
        "#create convolutional layers and fit the model \n",
        "model=Sequential()\n",
        "model.add(Conv2D(32,kernel_size=(3,5),activation='relu',input_shape=(3,60,1),padding='same'))\n",
        "model.add(MaxPooling2D(padding='same'))\n",
        "\n",
        "model.add(Conv2D(64,kernel_size=(3,5),activation='relu',padding='same'))\n",
        "model.add(MaxPooling2D(padding='same'))\n",
        "\n",
        "model.add(Flatten())\n",
        "model.add(Dense(960))\n",
        "model.add(Dense(60))\n",
        "model.compile(loss='mean_absolute_percentage_error',metrics=['mean_absolute_percentage_error'],optimizer='adam')\n",
        "\n",
        "model.fit(X_train,Y_train,epochs=32,batch_size=1,validation_data=(X_test,Y_test))\n",
        "\n",
        "\n"
      ]
    },
    {
      "cell_type": "markdown",
      "metadata": {
        "id": "zuEdFI9-KYBn"
      },
      "source": [
        "# New Section"
      ]
    },
    {
      "cell_type": "code",
      "execution_count": 14,
      "metadata": {
        "colab": {
          "base_uri": "https://localhost:8080/"
        },
        "id": "qwPWJ_IDMqtH",
        "outputId": "ad317dff-6233-474b-c9d5-b827a3fbc420",
        "pycharm": {
          "name": "#%%\n"
        }
      },
      "outputs": [
        {
          "output_type": "stream",
          "name": "stdout",
          "text": [
            "Looking in indexes: https://pypi.org/simple, https://us-python.pkg.dev/colab-wheels/public/simple/\n",
            "Collecting alibi[tensorflow]\n",
            "  Downloading alibi-0.9.0-py3-none-any.whl (522 kB)\n",
            "\u001b[2K     \u001b[90m━━━━━━━━━━━━━━━━━━━━━━━━━━━━━━━━━━━━━━━\u001b[0m \u001b[32m523.0/523.0 KB\u001b[0m \u001b[31m7.5 MB/s\u001b[0m eta \u001b[36m0:00:00\u001b[0m\n",
            "\u001b[?25hRequirement already satisfied: requests<3.0.0,>=2.21.0 in /usr/local/lib/python3.8/dist-packages (from alibi[tensorflow]) (2.25.1)\n",
            "Requirement already satisfied: matplotlib<4.0.0,>=3.0.0 in /usr/local/lib/python3.8/dist-packages (from alibi[tensorflow]) (3.2.2)\n",
            "Requirement already satisfied: typing-extensions>=3.7.4.3 in /usr/local/lib/python3.8/dist-packages (from alibi[tensorflow]) (4.4.0)\n",
            "Requirement already satisfied: dill<0.4.0,>=0.3.0 in /usr/local/lib/python3.8/dist-packages (from alibi[tensorflow]) (0.3.6)\n",
            "Requirement already satisfied: attrs<23.0.0,>=19.2.0 in /usr/local/lib/python3.8/dist-packages (from alibi[tensorflow]) (22.2.0)\n",
            "Requirement already satisfied: numpy<2.0.0,>=1.16.2 in /usr/local/lib/python3.8/dist-packages (from alibi[tensorflow]) (1.21.6)\n",
            "Requirement already satisfied: blis<0.8.0 in /usr/local/lib/python3.8/dist-packages (from alibi[tensorflow]) (0.7.9)\n",
            "Requirement already satisfied: Pillow<10.0,>=5.4.1 in /usr/local/lib/python3.8/dist-packages (from alibi[tensorflow]) (7.1.2)\n",
            "Requirement already satisfied: pandas<2.0.0,>=0.23.3 in /usr/local/lib/python3.8/dist-packages (from alibi[tensorflow]) (1.3.5)\n",
            "Requirement already satisfied: scikit-learn<2.0.0,>=1.0.0 in /usr/local/lib/python3.8/dist-packages (from alibi[tensorflow]) (1.0.2)\n",
            "Collecting transformers<5.0.0,>=4.7.0\n",
            "  Downloading transformers-4.25.1-py3-none-any.whl (5.8 MB)\n",
            "\u001b[2K     \u001b[90m━━━━━━━━━━━━━━━━━━━━━━━━━━━━━━━━━━━━━━━━\u001b[0m \u001b[32m5.8/5.8 MB\u001b[0m \u001b[31m69.5 MB/s\u001b[0m eta \u001b[36m0:00:00\u001b[0m\n",
            "\u001b[?25hRequirement already satisfied: scikit-image<0.20,>=0.17.2 in /usr/local/lib/python3.8/dist-packages (from alibi[tensorflow]) (0.18.3)\n",
            "Requirement already satisfied: tqdm<5.0.0,>=4.28.1 in /usr/local/lib/python3.8/dist-packages (from alibi[tensorflow]) (4.64.1)\n",
            "Requirement already satisfied: scipy<2.0.0,>=1.1.0 in /usr/local/lib/python3.8/dist-packages (from alibi[tensorflow]) (1.7.3)\n",
            "Requirement already satisfied: spacy[lookups]<4.0.0,>=2.0.0 in /usr/local/lib/python3.8/dist-packages (from alibi[tensorflow]) (3.4.4)\n",
            "Requirement already satisfied: tensorflow!=2.6.0,!=2.6.1,<2.11.0,>=2.0.0 in /usr/local/lib/python3.8/dist-packages (from alibi[tensorflow]) (2.9.2)\n",
            "Requirement already satisfied: kiwisolver>=1.0.1 in /usr/local/lib/python3.8/dist-packages (from matplotlib<4.0.0,>=3.0.0->alibi[tensorflow]) (1.4.4)\n",
            "Requirement already satisfied: python-dateutil>=2.1 in /usr/local/lib/python3.8/dist-packages (from matplotlib<4.0.0,>=3.0.0->alibi[tensorflow]) (2.8.2)\n",
            "Requirement already satisfied: cycler>=0.10 in /usr/local/lib/python3.8/dist-packages (from matplotlib<4.0.0,>=3.0.0->alibi[tensorflow]) (0.11.0)\n",
            "Requirement already satisfied: pyparsing!=2.0.4,!=2.1.2,!=2.1.6,>=2.0.1 in /usr/local/lib/python3.8/dist-packages (from matplotlib<4.0.0,>=3.0.0->alibi[tensorflow]) (3.0.9)\n",
            "Requirement already satisfied: pytz>=2017.3 in /usr/local/lib/python3.8/dist-packages (from pandas<2.0.0,>=0.23.3->alibi[tensorflow]) (2022.7)\n",
            "Requirement already satisfied: urllib3<1.27,>=1.21.1 in /usr/local/lib/python3.8/dist-packages (from requests<3.0.0,>=2.21.0->alibi[tensorflow]) (1.24.3)\n",
            "Requirement already satisfied: chardet<5,>=3.0.2 in /usr/local/lib/python3.8/dist-packages (from requests<3.0.0,>=2.21.0->alibi[tensorflow]) (4.0.0)\n",
            "Requirement already satisfied: idna<3,>=2.5 in /usr/local/lib/python3.8/dist-packages (from requests<3.0.0,>=2.21.0->alibi[tensorflow]) (2.10)\n",
            "Requirement already satisfied: certifi>=2017.4.17 in /usr/local/lib/python3.8/dist-packages (from requests<3.0.0,>=2.21.0->alibi[tensorflow]) (2022.12.7)\n",
            "Requirement already satisfied: tifffile>=2019.7.26 in /usr/local/lib/python3.8/dist-packages (from scikit-image<0.20,>=0.17.2->alibi[tensorflow]) (2022.10.10)\n",
            "Requirement already satisfied: imageio>=2.3.0 in /usr/local/lib/python3.8/dist-packages (from scikit-image<0.20,>=0.17.2->alibi[tensorflow]) (2.9.0)\n",
            "Requirement already satisfied: networkx>=2.0 in /usr/local/lib/python3.8/dist-packages (from scikit-image<0.20,>=0.17.2->alibi[tensorflow]) (2.8.8)\n",
            "Requirement already satisfied: PyWavelets>=1.1.1 in /usr/local/lib/python3.8/dist-packages (from scikit-image<0.20,>=0.17.2->alibi[tensorflow]) (1.4.1)\n",
            "Requirement already satisfied: threadpoolctl>=2.0.0 in /usr/local/lib/python3.8/dist-packages (from scikit-learn<2.0.0,>=1.0.0->alibi[tensorflow]) (3.1.0)\n",
            "Requirement already satisfied: joblib>=0.11 in /usr/local/lib/python3.8/dist-packages (from scikit-learn<2.0.0,>=1.0.0->alibi[tensorflow]) (1.2.0)\n",
            "Requirement already satisfied: langcodes<4.0.0,>=3.2.0 in /usr/local/lib/python3.8/dist-packages (from spacy[lookups]<4.0.0,>=2.0.0->alibi[tensorflow]) (3.3.0)\n",
            "Requirement already satisfied: murmurhash<1.1.0,>=0.28.0 in /usr/local/lib/python3.8/dist-packages (from spacy[lookups]<4.0.0,>=2.0.0->alibi[tensorflow]) (1.0.9)\n",
            "Requirement already satisfied: spacy-legacy<3.1.0,>=3.0.10 in /usr/local/lib/python3.8/dist-packages (from spacy[lookups]<4.0.0,>=2.0.0->alibi[tensorflow]) (3.0.11)\n",
            "Requirement already satisfied: typer<0.8.0,>=0.3.0 in /usr/local/lib/python3.8/dist-packages (from spacy[lookups]<4.0.0,>=2.0.0->alibi[tensorflow]) (0.7.0)\n",
            "Requirement already satisfied: setuptools in /usr/local/lib/python3.8/dist-packages (from spacy[lookups]<4.0.0,>=2.0.0->alibi[tensorflow]) (57.4.0)\n",
            "Requirement already satisfied: preshed<3.1.0,>=3.0.2 in /usr/local/lib/python3.8/dist-packages (from spacy[lookups]<4.0.0,>=2.0.0->alibi[tensorflow]) (3.0.8)\n",
            "Requirement already satisfied: spacy-loggers<2.0.0,>=1.0.0 in /usr/local/lib/python3.8/dist-packages (from spacy[lookups]<4.0.0,>=2.0.0->alibi[tensorflow]) (1.0.4)\n",
            "Requirement already satisfied: pydantic!=1.8,!=1.8.1,<1.11.0,>=1.7.4 in /usr/local/lib/python3.8/dist-packages (from spacy[lookups]<4.0.0,>=2.0.0->alibi[tensorflow]) (1.10.4)\n",
            "Requirement already satisfied: packaging>=20.0 in /usr/local/lib/python3.8/dist-packages (from spacy[lookups]<4.0.0,>=2.0.0->alibi[tensorflow]) (21.3)\n",
            "Requirement already satisfied: wasabi<1.1.0,>=0.9.1 in /usr/local/lib/python3.8/dist-packages (from spacy[lookups]<4.0.0,>=2.0.0->alibi[tensorflow]) (0.10.1)\n",
            "Requirement already satisfied: catalogue<2.1.0,>=2.0.6 in /usr/local/lib/python3.8/dist-packages (from spacy[lookups]<4.0.0,>=2.0.0->alibi[tensorflow]) (2.0.8)\n",
            "Requirement already satisfied: pathy>=0.3.5 in /usr/local/lib/python3.8/dist-packages (from spacy[lookups]<4.0.0,>=2.0.0->alibi[tensorflow]) (0.10.1)\n",
            "Requirement already satisfied: srsly<3.0.0,>=2.4.3 in /usr/local/lib/python3.8/dist-packages (from spacy[lookups]<4.0.0,>=2.0.0->alibi[tensorflow]) (2.4.5)\n",
            "Requirement already satisfied: jinja2 in /usr/local/lib/python3.8/dist-packages (from spacy[lookups]<4.0.0,>=2.0.0->alibi[tensorflow]) (2.11.3)\n",
            "Requirement already satisfied: thinc<8.2.0,>=8.1.0 in /usr/local/lib/python3.8/dist-packages (from spacy[lookups]<4.0.0,>=2.0.0->alibi[tensorflow]) (8.1.6)\n",
            "Requirement already satisfied: smart-open<7.0.0,>=5.2.1 in /usr/local/lib/python3.8/dist-packages (from spacy[lookups]<4.0.0,>=2.0.0->alibi[tensorflow]) (6.3.0)\n",
            "Requirement already satisfied: cymem<2.1.0,>=2.0.2 in /usr/local/lib/python3.8/dist-packages (from spacy[lookups]<4.0.0,>=2.0.0->alibi[tensorflow]) (2.0.7)\n",
            "Collecting spacy-lookups-data<1.1.0,>=1.0.3\n",
            "  Downloading spacy_lookups_data-1.0.3-py2.py3-none-any.whl (98.5 MB)\n",
            "\u001b[2K     \u001b[90m━━━━━━━━━━━━━━━━━━━━━━━━━━━━━━━━━━━━━━━━\u001b[0m \u001b[32m98.5/98.5 MB\u001b[0m \u001b[31m10.7 MB/s\u001b[0m eta \u001b[36m0:00:00\u001b[0m\n",
            "\u001b[?25hRequirement already satisfied: tensorboard<2.10,>=2.9 in /usr/local/lib/python3.8/dist-packages (from tensorflow!=2.6.0,!=2.6.1,<2.11.0,>=2.0.0->alibi[tensorflow]) (2.9.1)\n",
            "Requirement already satisfied: libclang>=13.0.0 in /usr/local/lib/python3.8/dist-packages (from tensorflow!=2.6.0,!=2.6.1,<2.11.0,>=2.0.0->alibi[tensorflow]) (14.0.6)\n",
            "Requirement already satisfied: gast<=0.4.0,>=0.2.1 in /usr/local/lib/python3.8/dist-packages (from tensorflow!=2.6.0,!=2.6.1,<2.11.0,>=2.0.0->alibi[tensorflow]) (0.4.0)\n",
            "Requirement already satisfied: opt-einsum>=2.3.2 in /usr/local/lib/python3.8/dist-packages (from tensorflow!=2.6.0,!=2.6.1,<2.11.0,>=2.0.0->alibi[tensorflow]) (3.3.0)\n",
            "Requirement already satisfied: keras-preprocessing>=1.1.1 in /usr/local/lib/python3.8/dist-packages (from tensorflow!=2.6.0,!=2.6.1,<2.11.0,>=2.0.0->alibi[tensorflow]) (1.1.2)\n",
            "Requirement already satisfied: wrapt>=1.11.0 in /usr/local/lib/python3.8/dist-packages (from tensorflow!=2.6.0,!=2.6.1,<2.11.0,>=2.0.0->alibi[tensorflow]) (1.14.1)\n",
            "Requirement already satisfied: termcolor>=1.1.0 in /usr/local/lib/python3.8/dist-packages (from tensorflow!=2.6.0,!=2.6.1,<2.11.0,>=2.0.0->alibi[tensorflow]) (2.2.0)\n",
            "Requirement already satisfied: flatbuffers<2,>=1.12 in /usr/local/lib/python3.8/dist-packages (from tensorflow!=2.6.0,!=2.6.1,<2.11.0,>=2.0.0->alibi[tensorflow]) (1.12)\n",
            "Requirement already satisfied: google-pasta>=0.1.1 in /usr/local/lib/python3.8/dist-packages (from tensorflow!=2.6.0,!=2.6.1,<2.11.0,>=2.0.0->alibi[tensorflow]) (0.2.0)\n",
            "Requirement already satisfied: six>=1.12.0 in /usr/local/lib/python3.8/dist-packages (from tensorflow!=2.6.0,!=2.6.1,<2.11.0,>=2.0.0->alibi[tensorflow]) (1.15.0)\n",
            "Requirement already satisfied: absl-py>=1.0.0 in /usr/local/lib/python3.8/dist-packages (from tensorflow!=2.6.0,!=2.6.1,<2.11.0,>=2.0.0->alibi[tensorflow]) (1.3.0)\n",
            "Requirement already satisfied: tensorflow-io-gcs-filesystem>=0.23.1 in /usr/local/lib/python3.8/dist-packages (from tensorflow!=2.6.0,!=2.6.1,<2.11.0,>=2.0.0->alibi[tensorflow]) (0.29.0)\n",
            "Requirement already satisfied: protobuf<3.20,>=3.9.2 in /usr/local/lib/python3.8/dist-packages (from tensorflow!=2.6.0,!=2.6.1,<2.11.0,>=2.0.0->alibi[tensorflow]) (3.19.6)\n",
            "Requirement already satisfied: tensorflow-estimator<2.10.0,>=2.9.0rc0 in /usr/local/lib/python3.8/dist-packages (from tensorflow!=2.6.0,!=2.6.1,<2.11.0,>=2.0.0->alibi[tensorflow]) (2.9.0)\n",
            "Requirement already satisfied: h5py>=2.9.0 in /usr/local/lib/python3.8/dist-packages (from tensorflow!=2.6.0,!=2.6.1,<2.11.0,>=2.0.0->alibi[tensorflow]) (3.1.0)\n",
            "Requirement already satisfied: astunparse>=1.6.0 in /usr/local/lib/python3.8/dist-packages (from tensorflow!=2.6.0,!=2.6.1,<2.11.0,>=2.0.0->alibi[tensorflow]) (1.6.3)\n",
            "Requirement already satisfied: keras<2.10.0,>=2.9.0rc0 in /usr/local/lib/python3.8/dist-packages (from tensorflow!=2.6.0,!=2.6.1,<2.11.0,>=2.0.0->alibi[tensorflow]) (2.9.0)\n",
            "Requirement already satisfied: grpcio<2.0,>=1.24.3 in /usr/local/lib/python3.8/dist-packages (from tensorflow!=2.6.0,!=2.6.1,<2.11.0,>=2.0.0->alibi[tensorflow]) (1.51.1)\n",
            "Requirement already satisfied: filelock in /usr/local/lib/python3.8/dist-packages (from transformers<5.0.0,>=4.7.0->alibi[tensorflow]) (3.9.0)\n",
            "Collecting huggingface-hub<1.0,>=0.10.0\n",
            "  Downloading huggingface_hub-0.11.1-py3-none-any.whl (182 kB)\n",
            "\u001b[2K     \u001b[90m━━━━━━━━━━━━━━━━━━━━━━━━━━━━━━━━━━━━━━\u001b[0m \u001b[32m182.4/182.4 KB\u001b[0m \u001b[31m19.0 MB/s\u001b[0m eta \u001b[36m0:00:00\u001b[0m\n",
            "\u001b[?25hRequirement already satisfied: regex!=2019.12.17 in /usr/local/lib/python3.8/dist-packages (from transformers<5.0.0,>=4.7.0->alibi[tensorflow]) (2022.6.2)\n",
            "Collecting tokenizers!=0.11.3,<0.14,>=0.11.1\n",
            "  Downloading tokenizers-0.13.2-cp38-cp38-manylinux_2_17_x86_64.manylinux2014_x86_64.whl (7.6 MB)\n",
            "\u001b[2K     \u001b[90m━━━━━━━━━━━━━━━━━━━━━━━━━━━━━━━━━━━━━━━━\u001b[0m \u001b[32m7.6/7.6 MB\u001b[0m \u001b[31m87.9 MB/s\u001b[0m eta \u001b[36m0:00:00\u001b[0m\n",
            "\u001b[?25hRequirement already satisfied: pyyaml>=5.1 in /usr/local/lib/python3.8/dist-packages (from transformers<5.0.0,>=4.7.0->alibi[tensorflow]) (6.0)\n",
            "Requirement already satisfied: wheel<1.0,>=0.23.0 in /usr/local/lib/python3.8/dist-packages (from astunparse>=1.6.0->tensorflow!=2.6.0,!=2.6.1,<2.11.0,>=2.0.0->alibi[tensorflow]) (0.38.4)\n",
            "Requirement already satisfied: werkzeug>=1.0.1 in /usr/local/lib/python3.8/dist-packages (from tensorboard<2.10,>=2.9->tensorflow!=2.6.0,!=2.6.1,<2.11.0,>=2.0.0->alibi[tensorflow]) (1.0.1)\n",
            "Requirement already satisfied: google-auth-oauthlib<0.5,>=0.4.1 in /usr/local/lib/python3.8/dist-packages (from tensorboard<2.10,>=2.9->tensorflow!=2.6.0,!=2.6.1,<2.11.0,>=2.0.0->alibi[tensorflow]) (0.4.6)\n",
            "Requirement already satisfied: tensorboard-data-server<0.7.0,>=0.6.0 in /usr/local/lib/python3.8/dist-packages (from tensorboard<2.10,>=2.9->tensorflow!=2.6.0,!=2.6.1,<2.11.0,>=2.0.0->alibi[tensorflow]) (0.6.1)\n",
            "Requirement already satisfied: markdown>=2.6.8 in /usr/local/lib/python3.8/dist-packages (from tensorboard<2.10,>=2.9->tensorflow!=2.6.0,!=2.6.1,<2.11.0,>=2.0.0->alibi[tensorflow]) (3.4.1)\n",
            "Requirement already satisfied: tensorboard-plugin-wit>=1.6.0 in /usr/local/lib/python3.8/dist-packages (from tensorboard<2.10,>=2.9->tensorflow!=2.6.0,!=2.6.1,<2.11.0,>=2.0.0->alibi[tensorflow]) (1.8.1)\n",
            "Requirement already satisfied: google-auth<3,>=1.6.3 in /usr/local/lib/python3.8/dist-packages (from tensorboard<2.10,>=2.9->tensorflow!=2.6.0,!=2.6.1,<2.11.0,>=2.0.0->alibi[tensorflow]) (2.15.0)\n",
            "Requirement already satisfied: confection<1.0.0,>=0.0.1 in /usr/local/lib/python3.8/dist-packages (from thinc<8.2.0,>=8.1.0->spacy[lookups]<4.0.0,>=2.0.0->alibi[tensorflow]) (0.0.3)\n",
            "Requirement already satisfied: click<9.0.0,>=7.1.1 in /usr/local/lib/python3.8/dist-packages (from typer<0.8.0,>=0.3.0->spacy[lookups]<4.0.0,>=2.0.0->alibi[tensorflow]) (7.1.2)\n",
            "Requirement already satisfied: MarkupSafe>=0.23 in /usr/local/lib/python3.8/dist-packages (from jinja2->spacy[lookups]<4.0.0,>=2.0.0->alibi[tensorflow]) (2.0.1)\n",
            "Requirement already satisfied: pyasn1-modules>=0.2.1 in /usr/local/lib/python3.8/dist-packages (from google-auth<3,>=1.6.3->tensorboard<2.10,>=2.9->tensorflow!=2.6.0,!=2.6.1,<2.11.0,>=2.0.0->alibi[tensorflow]) (0.2.8)\n",
            "Requirement already satisfied: rsa<5,>=3.1.4 in /usr/local/lib/python3.8/dist-packages (from google-auth<3,>=1.6.3->tensorboard<2.10,>=2.9->tensorflow!=2.6.0,!=2.6.1,<2.11.0,>=2.0.0->alibi[tensorflow]) (4.9)\n",
            "Requirement already satisfied: cachetools<6.0,>=2.0.0 in /usr/local/lib/python3.8/dist-packages (from google-auth<3,>=1.6.3->tensorboard<2.10,>=2.9->tensorflow!=2.6.0,!=2.6.1,<2.11.0,>=2.0.0->alibi[tensorflow]) (5.2.0)\n",
            "Requirement already satisfied: requests-oauthlib>=0.7.0 in /usr/local/lib/python3.8/dist-packages (from google-auth-oauthlib<0.5,>=0.4.1->tensorboard<2.10,>=2.9->tensorflow!=2.6.0,!=2.6.1,<2.11.0,>=2.0.0->alibi[tensorflow]) (1.3.1)\n",
            "Requirement already satisfied: importlib-metadata>=4.4 in /usr/local/lib/python3.8/dist-packages (from markdown>=2.6.8->tensorboard<2.10,>=2.9->tensorflow!=2.6.0,!=2.6.1,<2.11.0,>=2.0.0->alibi[tensorflow]) (6.0.0)\n",
            "Requirement already satisfied: zipp>=0.5 in /usr/local/lib/python3.8/dist-packages (from importlib-metadata>=4.4->markdown>=2.6.8->tensorboard<2.10,>=2.9->tensorflow!=2.6.0,!=2.6.1,<2.11.0,>=2.0.0->alibi[tensorflow]) (3.11.0)\n",
            "Requirement already satisfied: pyasn1<0.5.0,>=0.4.6 in /usr/local/lib/python3.8/dist-packages (from pyasn1-modules>=0.2.1->google-auth<3,>=1.6.3->tensorboard<2.10,>=2.9->tensorflow!=2.6.0,!=2.6.1,<2.11.0,>=2.0.0->alibi[tensorflow]) (0.4.8)\n",
            "Requirement already satisfied: oauthlib>=3.0.0 in /usr/local/lib/python3.8/dist-packages (from requests-oauthlib>=0.7.0->google-auth-oauthlib<0.5,>=0.4.1->tensorboard<2.10,>=2.9->tensorflow!=2.6.0,!=2.6.1,<2.11.0,>=2.0.0->alibi[tensorflow]) (3.2.2)\n",
            "Installing collected packages: tokenizers, spacy-lookups-data, huggingface-hub, transformers, alibi\n",
            "Successfully installed alibi-0.9.0 huggingface-hub-0.11.1 spacy-lookups-data-1.0.3 tokenizers-0.13.2 transformers-4.25.1\n"
          ]
        }
      ],
      "source": [
        "pip install alibi[tensorflow]"
      ]
    },
    {
      "cell_type": "code",
      "execution_count": 15,
      "metadata": {
        "colab": {
          "base_uri": "https://localhost:8080/"
        },
        "id": "OcBNv-XVsREM",
        "outputId": "8be7509c-c5e2-4d21-9fc5-286db024212b"
      },
      "outputs": [
        {
          "output_type": "stream",
          "name": "stdout",
          "text": [
            "(66, 3, 60, 1) (17, 3, 60, 1) (66, 1, 60) (17, 1, 60)\n"
          ]
        }
      ],
      "source": [
        "print(X_train.shape, X_test.shape, Y_train.shape, Y_test.shape)"
      ]
    },
    {
      "cell_type": "code",
      "execution_count": 16,
      "metadata": {
        "id": "nAR3lQVLM9vv",
        "colab": {
          "base_uri": "https://localhost:8080/"
        },
        "outputId": "a3f77a2b-d667-4e3f-f3d0-c8f3f8cf24c9"
      },
      "outputs": [
        {
          "output_type": "stream",
          "name": "stderr",
          "text": [
            "/usr/local/lib/python3.8/dist-packages/torch/cuda/__init__.py:497: UserWarning: Can't initialize NVML\n",
            "  warnings.warn(\"Can't initialize NVML\")\n"
          ]
        }
      ],
      "source": [
        "import tensorflow as tf\n",
        "from alibi.explainers import IntegratedGradients\n",
        "from functools import partial\n",
        "\n",
        "target_fn=partial(np.argmax, axis=1)\n",
        "\n",
        "ig=IntegratedGradients(model, target_fn=target_fn)\n",
        "explanations=ig.explain(arr)\n",
        "\n"
      ]
    },
    {
      "cell_type": "code",
      "execution_count": 17,
      "metadata": {
        "id": "eRa8xg_FaJKP"
      },
      "outputs": [],
      "source": [
        "\n",
        "attributions = explanations.attributions\n",
        "ig = attributions[0]"
      ]
    },
    {
      "cell_type": "code",
      "source": [
        "from numpy import asarray\n",
        "from numpy import savetxt\n",
        "print(ig.reshape(83*3,60))\n",
        "savetxt('igdata.csv', ig.reshape(83*3,60))"
      ],
      "metadata": {
        "colab": {
          "base_uri": "https://localhost:8080/"
        },
        "id": "Rv1fL3U2TOn_",
        "outputId": "78e389ec-19c6-4152-8d33-60ff192dceed"
      },
      "execution_count": 21,
      "outputs": [
        {
          "output_type": "stream",
          "name": "stdout",
          "text": [
            "[[-9.46267089e-01 -5.54101040e-01  7.29938746e-01 ... -7.90953320e-01\n",
            "   2.07840321e+00 -1.11570792e+00]\n",
            " [-2.00044336e+00 -8.83577301e+00 -2.63178131e+01 ...  7.89449319e+00\n",
            "   3.53325128e+01  5.47415136e+01]\n",
            " [-1.00179872e-01  1.78071550e+00  7.17539370e-01 ...  1.50536395e+00\n",
            "   9.14314817e-01 -1.00758131e+00]\n",
            " ...\n",
            " [-2.00863185e+00 -1.13042795e+00 -3.30085803e+00 ... -1.87092686e+00\n",
            "  -8.29437367e-01  2.84857354e-01]\n",
            " [ 6.61368940e-01  1.28113295e+00  3.90162631e+00 ...  1.06862044e+02\n",
            "   2.64232056e+01  4.65951691e+01]\n",
            " [-2.84804876e+00 -2.30400072e+00 -4.82537245e+00 ...  5.02072687e+00\n",
            "   6.31814208e+00  3.73290572e+00]]\n"
          ]
        }
      ]
    },
    {
      "cell_type": "code",
      "source": [
        "print(arr.shape)\n",
        "print(ig.shape)\n",
        "print(Y.shape)\n"
      ],
      "metadata": {
        "colab": {
          "base_uri": "https://localhost:8080/"
        },
        "id": "AW0lVJqDBXL8",
        "outputId": "2c68d17a-9b74-4b3b-961b-2f8eb03b2a21"
      },
      "execution_count": 22,
      "outputs": [
        {
          "output_type": "stream",
          "name": "stdout",
          "text": [
            "(83, 3, 60)\n",
            "(83, 3, 60)\n",
            "(83, 1, 60)\n"
          ]
        }
      ]
    },
    {
      "cell_type": "code",
      "source": [
        "def row(before):\n",
        "  kernel = np.ones(5)/5\n",
        "  after = np.convolve(before,kernel,mode=\"same\")\n",
        "  return after\n",
        "\n",
        "\n",
        "def country(before):\n",
        "  after = np.empty((3,60))\n",
        "  for i in range(3):\n",
        "    after[i,0:60] = row(before[i])\n",
        "  return after\n",
        "\n",
        "\n",
        "\n",
        "xavg = np.empty((83,3,60))\n",
        "yavg = np.empty((83,1,60))\n",
        "igavg = np.empty((83,3,60))\n",
        "\n",
        "for i in range(83):\n",
        "  xavg[i,0:3,0:83] = country(arr[i])\n",
        "\n",
        "for i in range(83):\n",
        "  igavg[i,0:3,0:83] = country(ig[i])\n",
        "\n",
        "\n",
        "for i in range(83):\n",
        "  yavg[i,0:1,0:83] = row(np.squeeze(Y[i]))\n",
        "\n",
        "\n",
        "xavg = xavg.reshape(83,60,3)\n",
        "yavg = yavg.reshape(83,60,1)\n",
        "igavg = igavg.reshape(83,60,3)\n",
        "\n",
        "\n",
        "x_per_year = np.hsplit(xavg,60)\n",
        "y_per_year = np.hsplit(yavg,60)\n",
        "ig_per_year = np.hsplit(igavg,60)\n",
        "\n",
        "\n",
        "for i in range(60):\n",
        "  x_per_year[i] = x_per_year[i].reshape(83,3)\n",
        "  y_per_year[i] = y_per_year[i].reshape(83,1)\n",
        "  ig_per_year[i] = ig_per_year[i].reshape(83,3)\n",
        "\n",
        "\n",
        "combine = np.empty((83*60,7))\n",
        "for i in range(60):\n",
        "  data_per_year = np.array(np.concatenate((np.stack((x_per_year[i],ig_per_year[i]),axis=2).reshape(83,6),y_per_year[i]),axis=1))\n",
        "  for j in range(83):\n",
        "    combine[i*83+j,0:7] = data_per_year[j]\n",
        "\n",
        "print(combine[0])"
      ],
      "metadata": {
        "id": "vafi84_JCVoZ",
        "colab": {
          "base_uri": "https://localhost:8080/"
        },
        "outputId": "572c6af7-fc55-4d58-f08c-e2ff0492cf86"
      },
      "execution_count": 23,
      "outputs": [
        {
          "output_type": "stream",
          "name": "stdout",
          "text": [
            "[-1.42401884e-01 -1.54085877e-01 -1.89578430e-01 -5.19057425e-01\n",
            " -2.36586131e-01 -7.31338411e-01  1.30100000e+06]\n"
          ]
        }
      ]
    },
    {
      "cell_type": "markdown",
      "metadata": {
        "id": "L6xiO1N54IGr"
      },
      "source": []
    },
    {
      "cell_type": "code",
      "execution_count": 24,
      "metadata": {
        "id": "oJukzB9aM7Xe"
      },
      "outputs": [],
      "source": [
        "savetxt('combinedata.csv', combine)"
      ]
    },
    {
      "cell_type": "code",
      "execution_count": null,
      "metadata": {
        "id": "wj3gEPJnTdlr"
      },
      "outputs": [],
      "source": []
    }
  ],
  "metadata": {
    "colab": {
      "provenance": []
    },
    "kernelspec": {
      "display_name": "Python 3",
      "language": "python",
      "name": "python3"
    },
    "language_info": {
      "codemirror_mode": {
        "name": "ipython",
        "version": 2
      },
      "file_extension": ".py",
      "mimetype": "text/x-python",
      "name": "python",
      "nbconvert_exporter": "python",
      "pygments_lexer": "ipython2",
      "version": "2.7.6"
    }
  },
  "nbformat": 4,
  "nbformat_minor": 0
}